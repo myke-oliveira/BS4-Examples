{
 "cells": [
  {
   "cell_type": "markdown",
   "metadata": {},
   "source": [
    "# Parsing only part of a document\n",
    "\n",
    "Let’s say you want to use Beautiful Soup look at a document’s `<a>`tags. It’s a waste of time and memory to parse the entire document and then go over it again looking for `<a>` tags. It would be much faster to ignore everything that wasn’t an `<a>` tag in the first place. The ``SoupStrainer`` class allows you to choose which parts of an incoming document are parsed. You just create a ``SoupStrainer`` and pass it in to the BeautifulSoup constructor as the ``parse_only`` argument.\n",
    "\n",
    "(Note that *this feature won’t work if you’re using the html5lib parser*. If you use html5lib, the whole document will be parsed, no matter what. This is because html5lib constantly rearranges the parse tree as it works, and if some part of the document didn’t actually make it into the parse tree, it’ll crash. To avoid confusion, in the examples below I’ll be forcing Beautiful Soup to use Python’s built-in parser.)"
   ]
  },
  {
   "cell_type": "markdown",
   "metadata": {},
   "source": [
    "\n",
    "Analisando apenas parte de um documento\n",
    "=======================================\n",
    "\n",
    "Digamos que você queira usar o Beautiful Soup para ver as tags `<a>` do\n",
    "documento. É um desperdício de tempo e memória analisar o documento inteiro\n",
    "e, em seguida, passar por ele procurando pelas tags `<a>`. Seria muito\n",
    "mais rápido ignorar o que não era uma tag `<a>` desde o início. A\n",
    "classe ``SoupStrainer`` te permite escolher que partes do documento de\n",
    "entrada que serão analisadas. Você só cria um ``SoupStrainer``e o passa\n",
    "pelo construtor ``BeautifulSoup`` como o argumento ``parse_only`` (analisar\n",
    "somente).\n",
    "\n",
    "(Observe que *este recurso não funcionará se você estiver usando o analisador\n",
    "html5lib*. Se você usar o html5lib, o documento inteiro será analisado\n",
    "independentemete. Isso ocorre porque o html5lib reorganiza constantemente a\n",
    "árvore de análise conforme trabalha e se alguma parte do documento não encaixar\n",
    "na árvore de análise, a análise irá falhar. Para evitar confusão, nos exemplos\n",
    "abaixo eu vou forçar o Beautiful Soupe a usar o analisador built-in do Python.)"
   ]
  },
  {
   "cell_type": "markdown",
   "metadata": {},
   "source": [
    "## ``SoupStrainer``\n",
    "\n",
    "The ``SoupStrainer`` class takes the same arguments as a typical method from `Searching the tree`_: `name <name>`, `attrs <attrs>`, `string <string>`, and ``**kwargs <kwargs>``. Here are three ``SoupStrainer`` objects:"
   ]
  },
  {
   "cell_type": "markdown",
   "metadata": {},
   "source": [
    "## ``SoupStrainer``\n",
    "\n",
    "A classe ``SoupStrainer`` usa os mesmos argumentos de um método típico de `Searching the tree`_: `name <name>`_, `attrs <attrs>`, `string <string>`, e `**kwargs <kwargs>`. Eis aqui três objetos ``SoupStrainer``:"
   ]
  },
  {
   "cell_type": "code",
   "execution_count": 33,
   "metadata": {},
   "outputs": [],
   "source": [
    "from bs4 import BeautifulSoup, SoupStrainer\n",
    "\n",
    "html_doc = \"\"\"\n",
    "<!DOCTYPE html>\n",
    "<html>\n",
    "<head>\n",
    "\t<title>The Dormouse's Story</title>\n",
    "</head>\n",
    "<body>\n",
    "\t<p class=\"title\"><b>The Dormouse's Story</b></p>\n",
    "\n",
    "\t<p class=\"story\">Once upon a time there were three little sisters; and their names where <a href=\"http://example.com/elsie\" class=\"sister\" id=\"link1\">Elsie</a>, <a href=\"http://example.com/lacie\" class=\"sister\" id=\"link2\">Lacie</a> and <a href=\"http://example.com/tillie\" class=\"sister\" id=\"link3\">Tillie</a> and they lived at the botton of a well.</p>\n",
    "</body>\n",
    "</html>\"\"\"\n",
    "\n",
    "only_a_tags = SoupStrainer('a')\n",
    "only_tags_with_id_link2 = SoupStrainer(id='link2')\n",
    "\n",
    "def is_short_string(string):\n",
    "    if string is None:\n",
    "        return False\n",
    "    return len(string) < 10\n",
    "\n",
    "only_short_strings = SoupStrainer(string=is_short_string)"
   ]
  },
  {
   "cell_type": "markdown",
   "metadata": {},
   "source": [
    "I’m going to bring back the “three sisters” document one more time, and we’ll see what the document looks like when it’s parsed with these three `SoupStrainer` objects:"
   ]
  },
  {
   "cell_type": "code",
   "execution_count": 34,
   "metadata": {},
   "outputs": [
    {
     "name": "stdout",
     "output_type": "stream",
     "text": [
      "<a class=\"sister\" href=\"http://example.com/elsie\" id=\"link1\">\n",
      " Elsie\n",
      "</a>\n",
      "<a class=\"sister\" href=\"http://example.com/lacie\" id=\"link2\">\n",
      " Lacie\n",
      "</a>\n",
      "<a class=\"sister\" href=\"http://example.com/tillie\" id=\"link3\">\n",
      " Tillie\n",
      "</a>\n"
     ]
    }
   ],
   "source": [
    "print(BeautifulSoup(html_doc, 'html.parser', parse_only=only_a_tags).prettify())"
   ]
  },
  {
   "cell_type": "code",
   "execution_count": 35,
   "metadata": {},
   "outputs": [
    {
     "name": "stdout",
     "output_type": "stream",
     "text": [
      "<a class=\"sister\" href=\"http://example.com/lacie\" id=\"link2\">\n",
      " Lacie\n",
      "</a>\n"
     ]
    }
   ],
   "source": [
    "print(BeautifulSoup(html_doc, 'html.parser', parse_only=only_tags_with_id_link2).prettify())"
   ]
  },
  {
   "cell_type": "code",
   "execution_count": 38,
   "metadata": {},
   "outputs": [
    {
     "name": "stdout",
     "output_type": "stream",
     "text": [
      "\n"
     ]
    }
   ],
   "source": [
    "print(BeautifulSoup(html_doc, 'html.parser', parse_only=only_short_strings).prettify())"
   ]
  },
  {
   "cell_type": "markdown",
   "metadata": {},
   "source": [
    "You can also pass a `SoupStrainer` into any of the methods covered in Searching the tree. This probably isn’t terribly useful, but I thought I’d mention it:"
   ]
  },
  {
   "cell_type": "code",
   "execution_count": 39,
   "metadata": {},
   "outputs": [
    {
     "name": "stdout",
     "output_type": "stream",
     "text": [
      "[]\n"
     ]
    }
   ],
   "source": [
    "soup = BeautifulSoup(html_doc, 'html.parser')\n",
    "print(soup.find_all(only_short_strings))"
   ]
  },
  {
   "cell_type": "code",
   "execution_count": null,
   "metadata": {},
   "outputs": [],
   "source": []
  }
 ],
 "metadata": {
  "kernelspec": {
   "display_name": "Python 3",
   "language": "python",
   "name": "python3"
  },
  "language_info": {
   "codemirror_mode": {
    "name": "ipython",
    "version": 3
   },
   "file_extension": ".py",
   "mimetype": "text/x-python",
   "name": "python",
   "nbconvert_exporter": "python",
   "pygments_lexer": "ipython3",
   "version": "3.5.2"
  }
 },
 "nbformat": 4,
 "nbformat_minor": 2
}
